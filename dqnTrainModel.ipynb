{
 "cells": [
  {
   "cell_type": "markdown",
   "metadata": {},
   "source": [
    "# Training DQN Model "
   ]
  },
  {
   "cell_type": "markdown",
   "metadata": {},
   "source": [
    "## Import Libraries"
   ]
  },
  {
   "cell_type": "code",
   "execution_count": null,
   "metadata": {},
   "outputs": [],
   "source": [
    "import highway_env\n",
    "import gymnasium\n",
    "from gymnasium.wrappers import RecordVideo\n",
    "from stable_baselines3 import DQN\n",
    "\n",
    "\n"
   ]
  },
  {
   "cell_type": "markdown",
   "metadata": {},
   "source": [
    "## Train DQN Model"
   ]
  },
  {
   "cell_type": "code",
   "execution_count": null,
   "metadata": {},
   "outputs": [],
   "source": [
    "# Referenced from\n",
    "# https://highway-env.farama.org/quickstart/#training-an-agent\n",
    "\n",
    "filepath = \"highway_dqn/\"\n",
    "filename = \"dqn_default_model\"\n",
    "\n",
    "env = gymnasium.make(\"highway-fast-v0\")\n",
    "\n",
    "\n",
    "model = DQN('MlpPolicy', env,\n",
    "            policy_kwargs=dict(net_arch=[256, 256]),\n",
    "            learning_rate=5e-4,\n",
    "            buffer_size=15000,\n",
    "            learning_starts=200,\n",
    "            batch_size=32,\n",
    "            gamma=0.8,\n",
    "            train_freq=1,\n",
    "            gradient_steps=1,\n",
    "            target_update_interval=50,\n",
    "            verbose=1,\n",
    "            tensorboard_log=\"highway_dqn/\", device='mps')\n",
    "model.learn(int(2e4))\n",
    "model.save(filepath + filename)"
   ]
  },
  {
   "cell_type": "markdown",
   "metadata": {},
   "source": []
  }
 ],
 "metadata": {
  "kernelspec": {
   "display_name": "CS3263",
   "language": "python",
   "name": "python3"
  },
  "language_info": {
   "codemirror_mode": {
    "name": "ipython",
    "version": 3
   },
   "file_extension": ".py",
   "mimetype": "text/x-python",
   "name": "python",
   "nbconvert_exporter": "python",
   "pygments_lexer": "ipython3",
   "version": "3.11.10"
  }
 },
 "nbformat": 4,
 "nbformat_minor": 2
}
